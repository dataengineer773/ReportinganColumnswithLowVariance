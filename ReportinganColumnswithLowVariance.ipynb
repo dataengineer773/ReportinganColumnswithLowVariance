{
 "cells": [
  {
   "cell_type": "code",
   "execution_count": 1,
   "id": "debc7a64-bfec-4464-b2b1-bbe76fbf2178",
   "metadata": {},
   "outputs": [],
   "source": [
    "# summarize the percentage of unique values for each column using numpy\n",
    "from numpy import loadtxt\n",
    "from numpy import unique"
   ]
  },
  {
   "cell_type": "code",
   "execution_count": 2,
   "id": "7a57fe33-5add-43e7-8bc3-373cea819c37",
   "metadata": {},
   "outputs": [],
   "source": [
    "# load dataset\n",
    "data = loadtxt('oil-spill.csv', delimiter=',')"
   ]
  },
  {
   "cell_type": "code",
   "execution_count": 3,
   "id": "6d8afffa-8488-4193-b7de-507f209b32fb",
   "metadata": {},
   "outputs": [
    {
     "name": "stdout",
     "output_type": "stream",
     "text": [
      "21, 9, 1.0%\n",
      "22, 1, 0.1%\n",
      "24, 9, 1.0%\n",
      "25, 8, 0.9%\n",
      "26, 9, 1.0%\n",
      "32, 4, 0.4%\n",
      "36, 3, 0.3%\n",
      "38, 9, 1.0%\n",
      "39, 9, 1.0%\n",
      "45, 2, 0.2%\n",
      "49, 2, 0.2%\n"
     ]
    }
   ],
   "source": [
    "# summarize the number of unique values in each column\n",
    "for i in range(data.shape[1]):\n",
    "    num = len(unique(data[:, i]))\n",
    "    percentage = float(num) / data.shape[0] * 100\n",
    "    if percentage < 1:\n",
    "        print('%d, %d, %.1f%%' % (i, num, percentage))    "
   ]
  }
 ],
 "metadata": {
  "kernelspec": {
   "display_name": "Python 3 (ipykernel)",
   "language": "python",
   "name": "python3"
  },
  "language_info": {
   "codemirror_mode": {
    "name": "ipython",
    "version": 3
   },
   "file_extension": ".py",
   "mimetype": "text/x-python",
   "name": "python",
   "nbconvert_exporter": "python",
   "pygments_lexer": "ipython3",
   "version": "3.10.12"
  }
 },
 "nbformat": 4,
 "nbformat_minor": 5
}
